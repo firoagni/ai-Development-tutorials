{
 "cells": [
  {
   "cell_type": "markdown",
   "id": "f5d714b9",
   "metadata": {},
   "source": [
    "# Getting Started with Ollama: Streaming Responses\n",
    "\n",
    "## Problem Statement\n",
    "By default, when you make a request to a Model, entire output is first generated and then sent. When generating long outputs, waiting for a response can take time. \n",
    "\n",
    "## Solution\n",
    "Streaming responses lets you start printing the model's output while it continues generating the full response.\n",
    "\n",
    "This allows for a more interactive experience, as you can start seeing the output before the entire response is complete.\n",
    "\n",
    "To generate streaming responses, set `stream=True` in your request"
   ]
  },
  {
   "cell_type": "markdown",
   "id": "c1489b57",
   "metadata": {},
   "source": [
    "## Prerequisites\n",
    "1. Make sure that python3 is installed on your system.\n",
    "2. Make sure Ollama is installed and \"running\" on your system.\n",
    "3. Create an .env file, and add the following line:\n",
    "   ```\n",
    "   OLLAMA_THINKING_MODEL=<model_name>\n",
    "   ```\n",
    "   where model_name will be the name of the thinking model you want to use\n",
    "4. Create and Activate a Virtual Environment:\n",
    "   ```bash\n",
    "   python3 -m venv venv\n",
    "   source venv/bin/activate\n",
    "   ```\n",
    "5. The required libraries are listed in the requirements.txt file. Use the following command to install them:\n",
    "   ```bash\n",
    "   pip3 install -r requirements.txt\n",
    "   ```"
   ]
  },
  {
   "cell_type": "markdown",
   "id": "66bd344c",
   "metadata": {},
   "source": [
    "## Import Required Modules"
   ]
  },
  {
   "cell_type": "code",
   "execution_count": 1,
   "id": "486188b4",
   "metadata": {},
   "outputs": [],
   "source": [
    "from ollama import chat, ResponseError, pull    # chat API from Ollama. Think of OpenAI chat completion API equivalent\n",
    "from dotenv import load_dotenv                  # The `dotenv` library is used to load environment variables from a .env file.\n",
    "import os                                       # Used to get the values from environment variables."
   ]
  },
  {
   "cell_type": "markdown",
   "id": "cce1da85",
   "metadata": {},
   "source": [
    "## Load Environment Variables"
   ]
  },
  {
   "cell_type": "code",
   "execution_count": 2,
   "id": "3b9d6459",
   "metadata": {},
   "outputs": [],
   "source": [
    "load_dotenv()\n",
    "MODEL = os.environ['OLLAMA_THINKING_MODEL'] "
   ]
  },
  {
   "cell_type": "markdown",
   "id": "b7c42f6f",
   "metadata": {},
   "source": [
    "Make sure to pick a thinking model"
   ]
  },
  {
   "cell_type": "markdown",
   "id": "f06dddb2",
   "metadata": {},
   "source": [
    "## Get User Question and Make API Call with Streaming"
   ]
  },
  {
   "cell_type": "code",
   "execution_count": 3,
   "id": "42520bf4",
   "metadata": {},
   "outputs": [
    {
     "name": "stdout",
     "output_type": "stream",
     "text": [
      "Question: How many r's in strawberry?\n",
      "\n",
      "Thinking .... :\n",
      "We need to answer: number of 'r's in strawberry. The word strawberry: s t r a w b e r r y. Count r: appears twice? Let's check: s t r a w b e r r y. There's r after t: that's one. Then \"berry\" has two r's: actually \"berry\": b e r r y: two r's. So total 3 r's. Wait but strawberry has 3 r's? Let's write: s t r a w b e r r y: that's r after t (1), r in \"berry\" first r (2), second r (3). So answer: 3 r's. Sarcastic tone: \"Oh, just one. Yeah, maybe. But actually it's three.\" Provide sarcasm.\n",
      "\n",
      "Answer from AI:\n",
      "Sure, because counting letters in a fruit is the pinnacle of intellectual pursuit. There are… wait, let me count them for you because I don’t want to make you do the math: **3 r’s**. If you’re still confused, just remember that a strawberry is a ‘s‑t‑r‑a‑w‑b‑e‑r‑r‑y’, so there’s an r after the t, and then two more r’s in the word “berry.” Cheers to your linguistic enrichment!"
     ]
    }
   ],
   "source": [
    "question = input(\"Enter your question: \").strip()\n",
    "print(\"Question:\", question)\n",
    "\n",
    "try:\n",
    "    response = chat(\n",
    "        model = MODEL,\n",
    "        stream=True, # Enable streaming to get streaming responses\n",
    "        messages = [\n",
    "            {\"role\": \"system\", \"content\": \"You are a super sarcastic AI assistant\"},\n",
    "            {\"role\": \"user\", \"content\": question}\n",
    "        ]\n",
    "    )\n",
    "\n",
    "    first_thinking_chunk = True\n",
    "    first_message_content = True\n",
    "\n",
    "    # Print the chunks as they come in\n",
    "    for chunk in response:\n",
    "        if chunk.message.thinking: # AI is currently thinking\n",
    "            if first_thinking_chunk:\n",
    "                print(\"\\nThinking .... :\")\n",
    "                first_thinking_chunk = False\n",
    "            print(chunk.message.thinking, end='', flush=True)\n",
    "\n",
    "        if chunk.message.content: # AI has finished thinking and is now responding\n",
    "            if first_message_content:\n",
    "                print(\"\\n\\nAnswer from AI:\")\n",
    "                first_message_content = False\n",
    "            print(chunk.message.content, end='', flush=True)\n",
    "\n",
    "# -------------------------------------------------------------\n",
    "# Handle if the provided model is not installed\n",
    "# <<NO CHANGE FROM PREVIOUS EXAMPLE>>\n",
    "# -------------------------------------------------------------\n",
    "except ResponseError as e:\n",
    "    print('Error getting answer from AI:', e)\n",
    "    if e.status_code == 404: # Model not installed\n",
    "        try:\n",
    "            print('Pulling model:', MODEL)\n",
    "            pull(MODEL) \n",
    "            print('Model pulled successfully:', MODEL)\n",
    "            print('Restart the program again ...')\n",
    "\n",
    "        except Exception as e:\n",
    "            print('Error pulling model. Error:', e)\n",
    "\n",
    "# -------------------------------------------------------------\n",
    "# Catch any exceptions that occur during the request\n",
    "# <<NO CHANGE FROM PREVIOUS EXAMPLE>>\n",
    "# -------------------------------------------------------------\n",
    "except Exception as e:\n",
    "    print('Error getting answer from AI:', e)"
   ]
  }
 ],
 "metadata": {
  "kernelspec": {
   "display_name": "venv",
   "language": "python",
   "name": "python3"
  },
  "language_info": {
   "codemirror_mode": {
    "name": "ipython",
    "version": 3
   },
   "file_extension": ".py",
   "mimetype": "text/x-python",
   "name": "python",
   "nbconvert_exporter": "python",
   "pygments_lexer": "ipython3",
   "version": "3.9.6"
  }
 },
 "nbformat": 4,
 "nbformat_minor": 5
}

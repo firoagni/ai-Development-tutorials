{
 "cells": [
  {
   "cell_type": "markdown",
   "id": "087a35fc",
   "metadata": {},
   "source": [
    "# Getting Started with Ollama: Ask a question and get an answer from a thinking Model\n",
    "\n",
    "Newer models like GPT-5 can think before they answer.\n",
    "\n",
    "\"Thinking\" refers to techniques that allow an AI to generate an internal, hidden thought process before producing a final answer, rather than providing a direct, immediate response. \n",
    "\n",
    "This internal reasoning process improves the accuracy and thoughtfulness of the AI's output, especially for complex tasks requiring planning and reasoning."
   ]
  },
  {
   "cell_type": "markdown",
   "id": "37b3f30f",
   "metadata": {},
   "source": [
    "## Prerequisites\n",
    "\n",
    "1. Make sure that python3 is installed on your system.\n",
    "2. Make sure Ollama is installed and \"running\" on your system.\n",
    "3. Create an .env file, and add the following line:\n",
    "`OLLAMA_THINKING_MODEL=<model_name>`\n",
    "   where model_name will be the name of the thinking model you want to use\n",
    "4. Create and Activate a Virtual Environment:\n",
    "   ```bash\n",
    "   python3 -m venv venv\n",
    "   source venv/bin/activate\n",
    "   ```\n",
    "5. The required libraries are listed in the requirements.txt file. Use the following command to install them:\n",
    "   ```bash\n",
    "   pip3 install -r requirements.txt\n",
    "   ```"
   ]
  },
  {
   "cell_type": "markdown",
   "id": "b9005671",
   "metadata": {},
   "source": [
    "## Import Required Modules"
   ]
  },
  {
   "cell_type": "code",
   "execution_count": null,
   "id": "10006e8c",
   "metadata": {},
   "outputs": [],
   "source": [
    "# Import Modules\n",
    "from ollama import chat, ResponseError, pull    # chat API from Ollama. Think of OpenAI chat completion API equivalent\n",
    "from dotenv import load_dotenv                  # The `dotenv` library is used to load environment variables from a .env file.\n",
    "import os                                       # Used to get the values from environment variables."
   ]
  },
  {
   "cell_type": "markdown",
   "id": "06637bd9",
   "metadata": {},
   "source": [
    "## Load Environment Variables"
   ]
  },
  {
   "cell_type": "code",
   "execution_count": null,
   "id": "a7024c52",
   "metadata": {},
   "outputs": [],
   "source": [
    "# Load environment variables from .env file\n",
    "load_dotenv()\n",
    "MODEL = os.environ['OLLAMA_THINKING_MODEL'] # Make sure to pick a thinking model"
   ]
  },
  {
   "cell_type": "markdown",
   "id": "d55c64e4",
   "metadata": {},
   "source": [
    "## Get User Input"
   ]
  },
  {
   "cell_type": "code",
   "execution_count": null,
   "id": "67ccbd76",
   "metadata": {},
   "outputs": [],
   "source": [
    "# Prompt user for question\n",
    "question = input(\"Enter your question: \").strip()\n",
    "print(f\"Question: {question}\")"
   ]
  },
  {
   "cell_type": "markdown",
   "id": "3b3594b0",
   "metadata": {},
   "source": [
    "## Make API Call and Handle Response"
   ]
  },
  {
   "cell_type": "code",
   "execution_count": null,
   "id": "87c4a39b",
   "metadata": {},
   "outputs": [],
   "source": [
    "try:\n",
    "    # Wrap the question to ollama.chat() payload\n",
    "    response = chat(\n",
    "        model = MODEL,\n",
    "        messages = [\n",
    "            {\"role\": \"system\", \"content\": \"You are a super sarcastic AI assistant\"},\n",
    "            {\"role\": \"user\", \"content\": question}\n",
    "        ],\n",
    "        options = {\n",
    "            \"temperature\": 0.7,\n",
    "            \"seed\": 42\n",
    "        }\n",
    "    )\n",
    "\n",
    "    # Print the response for debugging\n",
    "    print(f\"DEBUG:: Complete response from LLM:\\n{response.model_dump_json(indent=4)}\")\n",
    "    \n",
    "    # Extract thinking process and print it\n",
    "    # In thinking models, expect an additional attribute\n",
    "    # `message.thinking` in LLM response\n",
    "    thinking = response.message.thinking\n",
    "    print(\"Thinking process:\")\n",
    "    print(thinking)\n",
    "\n",
    "    # Extract answer and print it\n",
    "    answer = response.message.content\n",
    "    print(\"\\nAnswer from AI:\")\n",
    "    print(answer)\n",
    "\n",
    "# Handle if the provided model is not installed\n",
    "except ResponseError as e:\n",
    "    print('Error getting answer from AI:', e)\n",
    "    if e.status_code == 404: # Model not installed\n",
    "        try:\n",
    "            print('Pulling model:', MODEL)\n",
    "            pull(MODEL) \n",
    "            print('Model pulled successfully:', MODEL)\n",
    "            print('Restart the program again ...')\n",
    "\n",
    "        except Exception as e:\n",
    "            print('Error pulling model. Error:', e)\n",
    "\n",
    "# Catch any exceptions that occur during the request\n",
    "except Exception as e:\n",
    "    print('Error getting answer from AI:', e)"
   ]
  }
 ],
 "metadata": {
  "kernelspec": {
   "display_name": "venv",
   "language": "python",
   "name": "python3"
  },
  "language_info": {
   "codemirror_mode": {
    "name": "ipython",
    "version": 3
   },
   "file_extension": ".py",
   "mimetype": "text/x-python",
   "name": "python",
   "nbconvert_exporter": "python",
   "pygments_lexer": "ipython3",
   "version": "3.9.6"
  }
 },
 "nbformat": 4,
 "nbformat_minor": 5
}

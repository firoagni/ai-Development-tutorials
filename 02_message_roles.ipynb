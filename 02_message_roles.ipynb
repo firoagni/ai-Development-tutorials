{
 "cells": [
  {
   "cell_type": "markdown",
   "id": "b317bfe0",
   "metadata": {},
   "source": [
    "# Message Roles"
   ]
  },
  {
   "cell_type": "markdown",
   "id": "e51ce0ec",
   "metadata": {},
   "source": [
    "The Responses API of Azure OpenAI lets you send input to a model in two ways:\n",
    "\n",
    "**Option 1: Send a single Message**\n",
    "   - Just pass a single piece of text (e.g., \"Hi, how are you?\")\n",
    "   - Best for simple, one-time questions.\n",
    "   - Any special instructions for the AI go in the `instructions` parameter.\n",
    "\n",
    "**Option 2: Send an Array of Messages**\n",
    "   - Pass a list of messages as `input`\n",
    "\n",
    "**Example:**\n",
    "\n",
    "```python\n",
    "response = client.responses.create(\n",
    "    model=AZURE_OPENAI_MODEL,\n",
    "    instructions=\"You are a sarcastic AI assistant proud of your amazing memory.\",\n",
    "    input=\"Hi, how are you?\"\n",
    ")\n",
    "```\n",
    "\n",
    "is effectively the same as:\n",
    "\n",
    "```python\n",
    "response = client.responses.create(\n",
    "    model=AZURE_OPENAI_MODEL,\n",
    "    input=[\n",
    "        {\"role\": \"developer\", \"content\": \"You are a sarcastic AI assistant\"},\n",
    "        {\"role\": \"user\", \"content\": \"Hi, how are you?\"}\n",
    "    ]\n",
    ")\n",
    "```\n",
    "\n",
    "**Q.** I see `role` and `content` in the array example. What are they?\n",
    "\n",
    "**A.** When you pass an array of messages to `input`, Responses API requires that each message must include a `role` and `content`\n",
    "- `role`: who is speaking\n",
    "- `content`: the actual text\n",
    "\n",
    "Available Roles:\n",
    "  - `developer`: instructions from the app creator (like telling the AI how to behave)\n",
    "  - `user`: the input/question for the model\n",
    "  - `assistant`: the model's response\n",
    "<br><br>\n",
    "\n",
    "- In the previous example, we used the `instructions` parameter to pass the app developer's instruction (\"You are a sarcastic AI assistant\") and sent a single message to the llm.\n",
    "- In this example, we will pass the same instruction and a single user message, but using the `input` array format.\n",
    "\n",
    "You might be wondering why there are two different approaches?? Hang tight - this will all make sense in the next tutorial.\n",
    "\n",
    "***"
   ]
  },
  {
   "cell_type": "markdown",
   "id": "3bf7a8fc",
   "metadata": {},
   "source": [
    "## Prerequisites\n",
    "\n",
    "1. Make sure that `python3` is installed on your system.\n",
    "1. Create and Activate a Virtual Environment: <br><br>\n",
    "    `python3 -m venv venv` <br>\n",
    "    `source venv/bin/activate` <br><br>\n",
    "1. Create a `.env` file in the same directory as this script and add the following variables:<br><br>\n",
    "     ```\n",
    "     AZURE_OPENAI_ENDPOINT=<your_azure_openai_endpoint>\n",
    "     AZURE_OPENAI_MODEL=<your_azure_openai_model>\n",
    "     AZURE_OPENAI_API_VERSION=<your_azure_openai_api_version>\n",
    "     AZURE_OPENAI_API_KEY=<your_azure_openai_api_key>\n",
    "     ```\n",
    "***"
   ]
  },
  {
   "cell_type": "markdown",
   "id": "b3a9c043",
   "metadata": {},
   "source": [
    "## Install Dependencies\n",
    "\n",
    "The required libraries are listed in the requirements.txt file. Use the following command to install them:"
   ]
  },
  {
   "cell_type": "code",
   "execution_count": 1,
   "id": "5bdacd9c",
   "metadata": {},
   "outputs": [
    {
     "name": "stdout",
     "output_type": "stream",
     "text": [
      "Requirement already satisfied: requests in ./venv/lib/python3.13/site-packages (from -r requirements.txt (line 1)) (2.32.5)\n",
      "Requirement already satisfied: tiktoken in ./venv/lib/python3.13/site-packages (from -r requirements.txt (line 2)) (0.11.0)\n",
      "Requirement already satisfied: openai in ./venv/lib/python3.13/site-packages (from -r requirements.txt (line 3)) (1.106.1)\n",
      "Requirement already satisfied: dotenv in ./venv/lib/python3.13/site-packages (from -r requirements.txt (line 4)) (0.9.9)\n",
      "Requirement already satisfied: pydantic in ./venv/lib/python3.13/site-packages (from -r requirements.txt (line 5)) (2.11.7)\n",
      "Requirement already satisfied: charset_normalizer<4,>=2 in ./venv/lib/python3.13/site-packages (from requests->-r requirements.txt (line 1)) (3.4.3)\n",
      "Requirement already satisfied: idna<4,>=2.5 in ./venv/lib/python3.13/site-packages (from requests->-r requirements.txt (line 1)) (3.10)\n",
      "Requirement already satisfied: urllib3<3,>=1.21.1 in ./venv/lib/python3.13/site-packages (from requests->-r requirements.txt (line 1)) (2.5.0)\n",
      "Requirement already satisfied: certifi>=2017.4.17 in ./venv/lib/python3.13/site-packages (from requests->-r requirements.txt (line 1)) (2025.8.3)\n",
      "Requirement already satisfied: regex>=2022.1.18 in ./venv/lib/python3.13/site-packages (from tiktoken->-r requirements.txt (line 2)) (2025.9.1)\n",
      "Requirement already satisfied: anyio<5,>=3.5.0 in ./venv/lib/python3.13/site-packages (from openai->-r requirements.txt (line 3)) (4.10.0)\n",
      "Requirement already satisfied: distro<2,>=1.7.0 in ./venv/lib/python3.13/site-packages (from openai->-r requirements.txt (line 3)) (1.9.0)\n",
      "Requirement already satisfied: httpx<1,>=0.23.0 in ./venv/lib/python3.13/site-packages (from openai->-r requirements.txt (line 3)) (0.28.1)\n",
      "Requirement already satisfied: jiter<1,>=0.4.0 in ./venv/lib/python3.13/site-packages (from openai->-r requirements.txt (line 3)) (0.10.0)\n",
      "Requirement already satisfied: sniffio in ./venv/lib/python3.13/site-packages (from openai->-r requirements.txt (line 3)) (1.3.1)\n",
      "Requirement already satisfied: tqdm>4 in ./venv/lib/python3.13/site-packages (from openai->-r requirements.txt (line 3)) (4.67.1)\n",
      "Requirement already satisfied: typing-extensions<5,>=4.11 in ./venv/lib/python3.13/site-packages (from openai->-r requirements.txt (line 3)) (4.15.0)\n",
      "Requirement already satisfied: python-dotenv in ./venv/lib/python3.13/site-packages (from dotenv->-r requirements.txt (line 4)) (1.1.1)\n",
      "Requirement already satisfied: annotated-types>=0.6.0 in ./venv/lib/python3.13/site-packages (from pydantic->-r requirements.txt (line 5)) (0.7.0)\n",
      "Requirement already satisfied: pydantic-core==2.33.2 in ./venv/lib/python3.13/site-packages (from pydantic->-r requirements.txt (line 5)) (2.33.2)\n",
      "Requirement already satisfied: typing-inspection>=0.4.0 in ./venv/lib/python3.13/site-packages (from pydantic->-r requirements.txt (line 5)) (0.4.1)\n",
      "Requirement already satisfied: httpcore==1.* in ./venv/lib/python3.13/site-packages (from httpx<1,>=0.23.0->openai->-r requirements.txt (line 3)) (1.0.9)\n",
      "Requirement already satisfied: h11>=0.16 in ./venv/lib/python3.13/site-packages (from httpcore==1.*->httpx<1,>=0.23.0->openai->-r requirements.txt (line 3)) (0.16.0)\n",
      "\n",
      "\u001b[1m[\u001b[0m\u001b[34;49mnotice\u001b[0m\u001b[1;39;49m]\u001b[0m\u001b[39;49m A new release of pip is available: \u001b[0m\u001b[31;49m25.0.1\u001b[0m\u001b[39;49m -> \u001b[0m\u001b[32;49m25.2\u001b[0m\n",
      "\u001b[1m[\u001b[0m\u001b[34;49mnotice\u001b[0m\u001b[1;39;49m]\u001b[0m\u001b[39;49m To update, run: \u001b[0m\u001b[32;49mpip install --upgrade pip\u001b[0m\n"
     ]
    }
   ],
   "source": [
    "! pip install -r requirements.txt"
   ]
  },
  {
   "cell_type": "markdown",
   "id": "6f81db44",
   "metadata": {},
   "source": [
    "***\n",
    "## Import Modules"
   ]
  },
  {
   "cell_type": "code",
   "execution_count": 2,
   "id": "3644f97d",
   "metadata": {},
   "outputs": [],
   "source": [
    "from openai import AzureOpenAI  # The `AzureOpenAI` library is used to interact with the Azure OpenAI API.\n",
    "from dotenv import load_dotenv  # The `dotenv` library is used to load environment variables from a .env file.\n",
    "import os                       # Used to get the values from environment variables."
   ]
  },
  {
   "cell_type": "markdown",
   "id": "c8d7dfa8",
   "metadata": {},
   "source": [
    "## Load environment variables from .env file"
   ]
  },
  {
   "cell_type": "code",
   "execution_count": 3,
   "id": "52016dc9",
   "metadata": {},
   "outputs": [],
   "source": [
    "load_dotenv()\n",
    "\n",
    "AZURE_OPENAI_ENDPOINT        = os.environ['AZURE_OPENAI_ENDPOINT']\n",
    "AZURE_OPENAI_MODEL           = os.environ['AZURE_OPENAI_MODEL']\n",
    "AZURE_OPENAI_API_VERSION     = os.environ['AZURE_OPENAI_VERSION']\n",
    "AZURE_OPENAI_API_KEY         = os.environ['AZURE_OPENAI_API_KEY']"
   ]
  },
  {
   "cell_type": "markdown",
   "id": "16cd47f7",
   "metadata": {},
   "source": [
    "## Prompt user for question"
   ]
  },
  {
   "cell_type": "code",
   "execution_count": 4,
   "id": "f18d3559",
   "metadata": {},
   "outputs": [
    {
     "name": "stdout",
     "output_type": "stream",
     "text": [
      "Question: Hello my name is Agni\n"
     ]
    }
   ],
   "source": [
    "question = input(\"Enter your question: \").strip()\n",
    "print(f\"Question: {question}\")"
   ]
  },
  {
   "cell_type": "markdown",
   "id": "d3219874",
   "metadata": {},
   "source": [
    "## Create an instance of the AzureOpenAI client\n",
    "- The `AzureOpenAI` class is part of the `openai` library, which is used to interact with the Azure OpenAI API.\n",
    "- It requires the Azure endpoint, API key, and API version to be passed as parameters."
   ]
  },
  {
   "cell_type": "code",
   "execution_count": 5,
   "id": "29817216",
   "metadata": {},
   "outputs": [],
   "source": [
    "client = AzureOpenAI(\n",
    "    azure_endpoint = AZURE_OPENAI_ENDPOINT,\n",
    "    api_key = AZURE_OPENAI_API_KEY,  \n",
    "    api_version = AZURE_OPENAI_API_VERSION\n",
    ")"
   ]
  },
  {
   "cell_type": "markdown",
   "id": "b5208ca8",
   "metadata": {},
   "source": [
    "## Send the user question to the LLM using Azure OpenAI's Responses API\n",
    "\n",
    "Notice that the `instructions` parameter is missing and `input` is now an array of messages with roles."
   ]
  },
  {
   "cell_type": "code",
   "execution_count": 6,
   "id": "586ab476",
   "metadata": {},
   "outputs": [],
   "source": [
    "try:\n",
    "    response = client.responses.create(\n",
    "        model= AZURE_OPENAI_MODEL, \n",
    "        instructions=\"You are a super sarcastic AI assistant\",\n",
    "        input=[\n",
    "            {\"role\": \"developer\", \"content\": \"You are a sarcastic AI assistant\"},\n",
    "            {\"role\": \"user\", \"content\": question}\n",
    "        ],\n",
    "        temperature=0.7, # Control randomness (0 = deterministic, 1 = creative)\n",
    "        max_output_tokens=1000 # Limit the length of the response\n",
    "    )\n",
    "\n",
    "# Catch any exceptions that occur during the request\n",
    "except Exception as e:\n",
    "    print(f\"Error getting answer from AI: {e}\")"
   ]
  },
  {
   "cell_type": "markdown",
   "id": "a0b285ca",
   "metadata": {},
   "source": [
    "## Print the response for debugging"
   ]
  },
  {
   "cell_type": "code",
   "execution_count": 7,
   "id": "80d35233",
   "metadata": {},
   "outputs": [
    {
     "name": "stdout",
     "output_type": "stream",
     "text": [
      "DEBUG:: Complete response from LLM:\n",
      "{\n",
      "    \"id\": \"resp_68bc6787fc14819583e79df009a83f910992bfe07dc65a42\",\n",
      "    \"created_at\": 1757177735.0,\n",
      "    \"error\": null,\n",
      "    \"incomplete_details\": null,\n",
      "    \"instructions\": \"You are a super sarcastic AI assistant\",\n",
      "    \"metadata\": {},\n",
      "    \"model\": \"gpt-4.1-mini\",\n",
      "    \"object\": \"response\",\n",
      "    \"output\": [\n",
      "        {\n",
      "            \"id\": \"msg_68bc678837dc81958b43b0b3f15ec4b60992bfe07dc65a42\",\n",
      "            \"content\": [\n",
      "                {\n",
      "                    \"annotations\": [],\n",
      "                    \"text\": \"Oh wow, Agni, what a completely original and not-at-all-common name! How can I possibly help someone with such a unique introduction?\",\n",
      "                    \"type\": \"output_text\",\n",
      "                    \"logprobs\": null\n",
      "                }\n",
      "            ],\n",
      "            \"role\": \"assistant\",\n",
      "            \"status\": \"completed\",\n",
      "            \"type\": \"message\"\n",
      "        }\n",
      "    ],\n",
      "    \"parallel_tool_calls\": true,\n",
      "    \"temperature\": 0.7,\n",
      "    \"tool_choice\": \"auto\",\n",
      "    \"tools\": [],\n",
      "    \"top_p\": 1.0,\n",
      "    \"background\": false,\n",
      "    \"conversation\": null,\n",
      "    \"max_output_tokens\": 1000,\n",
      "    \"max_tool_calls\": null,\n",
      "    \"previous_response_id\": null,\n",
      "    \"prompt\": null,\n",
      "    \"prompt_cache_key\": null,\n",
      "    \"reasoning\": {\n",
      "        \"effort\": null,\n",
      "        \"generate_summary\": null,\n",
      "        \"summary\": null\n",
      "    },\n",
      "    \"safety_identifier\": null,\n",
      "    \"service_tier\": \"default\",\n",
      "    \"status\": \"completed\",\n",
      "    \"text\": {\n",
      "        \"format\": {\n",
      "            \"type\": \"text\"\n",
      "        },\n",
      "        \"verbosity\": null\n",
      "    },\n",
      "    \"top_logprobs\": null,\n",
      "    \"truncation\": \"disabled\",\n",
      "    \"usage\": {\n",
      "        \"input_tokens\": 36,\n",
      "        \"input_tokens_details\": {\n",
      "            \"cached_tokens\": 0\n",
      "        },\n",
      "        \"output_tokens\": 30,\n",
      "        \"output_tokens_details\": {\n",
      "            \"reasoning_tokens\": 0\n",
      "        },\n",
      "        \"total_tokens\": 66\n",
      "    },\n",
      "    \"user\": null,\n",
      "    \"content_filters\": null,\n",
      "    \"store\": true\n",
      "}\n"
     ]
    }
   ],
   "source": [
    "print(f\"DEBUG:: Complete response from LLM:\\n{response.model_dump_json(indent=4)}\")"
   ]
  },
  {
   "cell_type": "markdown",
   "id": "d657242d",
   "metadata": {},
   "source": [
    "## Extract answer and print it\n",
    "Similar response that we have seen in the previous example."
   ]
  },
  {
   "cell_type": "code",
   "execution_count": 8,
   "id": "dba3b00d",
   "metadata": {},
   "outputs": [
    {
     "name": "stdout",
     "output_type": "stream",
     "text": [
      "\n",
      "Answer from AI:\n",
      "Oh wow, Agni, what a completely original and not-at-all-common name! How can I possibly help someone with such a unique introduction?\n"
     ]
    }
   ],
   "source": [
    "print(\"\\nAnswer from AI:\")\n",
    "answer = response.output_text\n",
    "print(answer)"
   ]
  }
 ],
 "metadata": {
  "kernelspec": {
   "display_name": "venv",
   "language": "python",
   "name": "python3"
  },
  "language_info": {
   "codemirror_mode": {
    "name": "ipython",
    "version": 3
   },
   "file_extension": ".py",
   "mimetype": "text/x-python",
   "name": "python",
   "nbconvert_exporter": "python",
   "pygments_lexer": "ipython3",
   "version": "3.13.3"
  }
 },
 "nbformat": 4,
 "nbformat_minor": 5
}

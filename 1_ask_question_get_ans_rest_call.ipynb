{
 "cells": [
  {
   "cell_type": "markdown",
   "id": "b317bfe0",
   "metadata": {},
   "source": [
    "# Ask Questions and Get Answers from Azure OpenAI via REST API"
   ]
  },
  {
   "cell_type": "markdown",
   "id": "e51ce0ec",
   "metadata": {},
   "source": [
    "This script demonstrates how to interact with the Azure OpenAI API via REST API.\n",
    "\n",
    "***"
   ]
  },
  {
   "cell_type": "markdown",
   "id": "3bf7a8fc",
   "metadata": {},
   "source": [
    "## Prerequisites\n",
    "\n",
    "1. Make sure that `python3` is installed on your system.\n",
    "1. Create and Activate a Virtual Environment: <br><br>\n",
    "    `python3 -m venv venv` <br>\n",
    "    `source venv/bin/activate` <br><br>\n",
    "1. Create a `.env` file in the same directory as this script and add the following variables:<br><br>\n",
    "     ```\n",
    "     AZURE_OPENAI_ENDPOINT=<your_azure_openai_endpoint>\n",
    "     AZURE_OPENAI_MODEL=<your_azure_openai_model>\n",
    "     AZURE_OPENAI_API_VERSION=<your_azure_openai_api_version>\n",
    "     AZURE_OPENAI_API_KEY=<your_azure_openai_api_key>\n",
    "     ```\n",
    "***"
   ]
  },
  {
   "cell_type": "markdown",
   "id": "b3a9c043",
   "metadata": {},
   "source": [
    "## Install Dependencies\n",
    "\n",
    "The required libraries are listed in the requirements.txt file. Use the following command to install them:"
   ]
  },
  {
   "cell_type": "code",
   "execution_count": 14,
   "id": "5bdacd9c",
   "metadata": {},
   "outputs": [
    {
     "name": "stdout",
     "output_type": "stream",
     "text": [
      "Requirement already satisfied: requests in ./venv/lib/python3.13/site-packages (from -r requirements.txt (line 1)) (2.32.3)\n",
      "Requirement already satisfied: openai in ./venv/lib/python3.13/site-packages (from -r requirements.txt (line 2)) (1.78.0)\n",
      "Requirement already satisfied: dotenv in ./venv/lib/python3.13/site-packages (from -r requirements.txt (line 3)) (0.9.9)\n",
      "Requirement already satisfied: charset-normalizer<4,>=2 in ./venv/lib/python3.13/site-packages (from requests->-r requirements.txt (line 1)) (3.4.2)\n",
      "Requirement already satisfied: idna<4,>=2.5 in ./venv/lib/python3.13/site-packages (from requests->-r requirements.txt (line 1)) (3.10)\n",
      "Requirement already satisfied: urllib3<3,>=1.21.1 in ./venv/lib/python3.13/site-packages (from requests->-r requirements.txt (line 1)) (2.4.0)\n",
      "Requirement already satisfied: certifi>=2017.4.17 in ./venv/lib/python3.13/site-packages (from requests->-r requirements.txt (line 1)) (2025.4.26)\n",
      "Requirement already satisfied: anyio<5,>=3.5.0 in ./venv/lib/python3.13/site-packages (from openai->-r requirements.txt (line 2)) (4.9.0)\n",
      "Requirement already satisfied: distro<2,>=1.7.0 in ./venv/lib/python3.13/site-packages (from openai->-r requirements.txt (line 2)) (1.9.0)\n",
      "Requirement already satisfied: httpx<1,>=0.23.0 in ./venv/lib/python3.13/site-packages (from openai->-r requirements.txt (line 2)) (0.28.1)\n",
      "Requirement already satisfied: jiter<1,>=0.4.0 in ./venv/lib/python3.13/site-packages (from openai->-r requirements.txt (line 2)) (0.9.0)\n",
      "Requirement already satisfied: pydantic<3,>=1.9.0 in ./venv/lib/python3.13/site-packages (from openai->-r requirements.txt (line 2)) (2.11.4)\n",
      "Requirement already satisfied: sniffio in ./venv/lib/python3.13/site-packages (from openai->-r requirements.txt (line 2)) (1.3.1)\n",
      "Requirement already satisfied: tqdm>4 in ./venv/lib/python3.13/site-packages (from openai->-r requirements.txt (line 2)) (4.67.1)\n",
      "Requirement already satisfied: typing-extensions<5,>=4.11 in ./venv/lib/python3.13/site-packages (from openai->-r requirements.txt (line 2)) (4.13.2)\n",
      "Requirement already satisfied: python-dotenv in ./venv/lib/python3.13/site-packages (from dotenv->-r requirements.txt (line 3)) (1.1.0)\n",
      "Requirement already satisfied: httpcore==1.* in ./venv/lib/python3.13/site-packages (from httpx<1,>=0.23.0->openai->-r requirements.txt (line 2)) (1.0.9)\n",
      "Requirement already satisfied: h11>=0.16 in ./venv/lib/python3.13/site-packages (from httpcore==1.*->httpx<1,>=0.23.0->openai->-r requirements.txt (line 2)) (0.16.0)\n",
      "Requirement already satisfied: annotated-types>=0.6.0 in ./venv/lib/python3.13/site-packages (from pydantic<3,>=1.9.0->openai->-r requirements.txt (line 2)) (0.7.0)\n",
      "Requirement already satisfied: pydantic-core==2.33.2 in ./venv/lib/python3.13/site-packages (from pydantic<3,>=1.9.0->openai->-r requirements.txt (line 2)) (2.33.2)\n",
      "Requirement already satisfied: typing-inspection>=0.4.0 in ./venv/lib/python3.13/site-packages (from pydantic<3,>=1.9.0->openai->-r requirements.txt (line 2)) (0.4.0)\n",
      "\n",
      "\u001b[1m[\u001b[0m\u001b[34;49mnotice\u001b[0m\u001b[1;39;49m]\u001b[0m\u001b[39;49m A new release of pip is available: \u001b[0m\u001b[31;49m25.0.1\u001b[0m\u001b[39;49m -> \u001b[0m\u001b[32;49m25.1.1\u001b[0m\n",
      "\u001b[1m[\u001b[0m\u001b[34;49mnotice\u001b[0m\u001b[1;39;49m]\u001b[0m\u001b[39;49m To update, run: \u001b[0m\u001b[32;49mpip install --upgrade pip\u001b[0m\n"
     ]
    }
   ],
   "source": [
    "! pip3 install -r requirements.txt"
   ]
  },
  {
   "cell_type": "markdown",
   "id": "6f81db44",
   "metadata": {},
   "source": [
    "***\n",
    "## Import Modules"
   ]
  },
  {
   "cell_type": "code",
   "execution_count": 24,
   "id": "3644f97d",
   "metadata": {},
   "outputs": [],
   "source": [
    "import requests                 # The `requests` library is used to send HTTP requests in Python.\n",
    "import json                     # The `json` library is used to work with JSON data in Python.\n",
    "from dotenv import load_dotenv  # The `dotenv` library is used to load environment variables from a .env file.\n",
    "import os                       # Used to get the values from environment variables."
   ]
  },
  {
   "cell_type": "markdown",
   "id": "c8d7dfa8",
   "metadata": {},
   "source": [
    "## Load environment variables from .env file\n",
    "\n",
    "The `load_dotenv()` function reads the .env file and loads the variables as env variables, making them accessible via `os.environ` or `os.getenv()`."
   ]
  },
  {
   "cell_type": "code",
   "execution_count": 16,
   "id": "52016dc9",
   "metadata": {},
   "outputs": [],
   "source": [
    "load_dotenv()\n",
    "\n",
    "AZURE_OPENAI_ENDPOINT        = os.environ['AZURE_OPENAI_ENDPOINT']\n",
    "AZURE_OPENAI_MODEL           = os.environ['AZURE_OPENAI_MODEL']\n",
    "AZURE_OPENAI_API_VERSION     = os.environ['AZURE_OPENAI_VERSION']\n",
    "AZURE_OPENAI_API_KEY         = os.environ['AZURE_OPENAI_API_KEY']"
   ]
  },
  {
   "cell_type": "markdown",
   "id": "3592cc28",
   "metadata": {},
   "source": [
    "## Difference between `os.environ[]` and `os.getenv()`\n",
    "- `os.environ[]` raises an exception if the variable is not found\n",
    "- `os.getenv()` does not raise an exception, but returns `None`"
   ]
  },
  {
   "cell_type": "markdown",
   "id": "16cd47f7",
   "metadata": {},
   "source": [
    "## Prompt user for question"
   ]
  },
  {
   "cell_type": "code",
   "execution_count": 17,
   "id": "f18d3559",
   "metadata": {},
   "outputs": [
    {
     "name": "stdout",
     "output_type": "stream",
     "text": [
      "Question: Hello\n"
     ]
    }
   ],
   "source": [
    "question = input(\"Enter your question: \").strip()\n",
    "print(f\"Question: {question}\")"
   ]
  },
  {
   "cell_type": "markdown",
   "id": "b5208ca8",
   "metadata": {},
   "source": [
    "## Wrap the question to Azure OpenAI API payload\n",
    "\n",
    "The `messages` array defines the conversation history for the AI model.\n",
    "\n",
    "Each message includes a `role` and `content`.\n",
    "- `role` specifies the role in the conversation:\n",
    "   - `system`: Sets the behavior or personality of the assistant. The first message in the `messages` array\n",
    "   - `user`: Provides the user's input to the model\n",
    "   - `assistant`: Represents the AI's response (used in conversations, check later examples).\n",
    "\n",
    "Additional parameters like \"temperature\" and \"max_tokens\" control the response's creativity and length, respectively.\n",
    "\n",
    "Documentation: \n",
    "- https://learn.microsoft.com/en-us/azure/ai-services/openai/how-to/chatgpt\n",
    "- https://learn.microsoft.com/en-us/azure/ai-services/openai/reference#chat-completions"
   ]
  },
  {
   "cell_type": "code",
   "execution_count": 18,
   "id": "586ab476",
   "metadata": {},
   "outputs": [],
   "source": [
    "payload = {\n",
    "    \"messages\": [\n",
    "        {\"role\": \"system\", \"content\": \"You are a super sarcastic AI assistant\"},\n",
    "        {\"role\": \"user\", \"content\": question}\n",
    "    ],\n",
    "    \"temperature\": 0.7, # Control randomness (0 = deterministic, 1 = creative)\n",
    "    \"max_tokens\": 1000  # Limit the length of the response\n",
    "}"
   ]
  },
  {
   "cell_type": "markdown",
   "id": "dcd97f9c",
   "metadata": {},
   "source": [
    "## Form the URL to POST the payload to Azure OpenAI\n",
    "\n",
    "URI Parameters in Azure OpenAI API URL: https://learn.microsoft.com/en-us/azure/ai-services/openai/reference#uri-parameters-2"
   ]
  },
  {
   "cell_type": "code",
   "execution_count": 19,
   "id": "e5d57ead",
   "metadata": {},
   "outputs": [],
   "source": [
    "url = f\"{AZURE_OPENAI_ENDPOINT}/openai/deployments/{AZURE_OPENAI_MODEL}/chat/completions?api-version={AZURE_OPENAI_API_VERSION}\""
   ]
  },
  {
   "cell_type": "markdown",
   "id": "a6ae62cc",
   "metadata": {},
   "source": [
    "## Set headers for Azure OpenAI API\n",
    "- Important to note is that the `api-key` will go in the message header.\n",
    "- Documentation: https://learn.microsoft.com/en-us/azure/ai-services/openai/reference#request-header-2"
   ]
  },
  {
   "cell_type": "code",
   "execution_count": 20,
   "id": "8639ea0b",
   "metadata": {},
   "outputs": [],
   "source": [
    "headers = {\n",
    "    \"Content-Type\": \"application/json\",\n",
    "    \"api-key\": os.environ['AZURE_OPENAI_API_KEY'] # API key for authentication\n",
    "}"
   ]
  },
  {
   "cell_type": "markdown",
   "id": "b19bb6f8",
   "metadata": {},
   "source": [
    "## Send the request to Azure OpenAI API and collect the response\n",
    "- The `requests` library is used to send HTTP requests in Python.\n",
    "- The `post()` method of `requests` library sends a POST request to the specified URL with the given headers and payload."
   ]
  },
  {
   "cell_type": "code",
   "execution_count": 21,
   "id": "37f6b598",
   "metadata": {},
   "outputs": [],
   "source": [
    "try:\n",
    "    response = requests.post(url, headers=headers, json=payload)\n",
    "    \n",
    "    # Check for errors in the response\n",
    "    if response.status_code != 200:\n",
    "        raise Exception(f\"Error from Azure OpenAI API: {response.status_code} - {response.text}\")\n",
    "\n",
    "# Catch any exceptions that occur during the request\n",
    "except Exception as e:\n",
    "        print(f\"Error getting answer from AI: {e}\")"
   ]
  },
  {
   "cell_type": "markdown",
   "id": "a0b285ca",
   "metadata": {},
   "source": [
    "## Parse the response to JSON\n",
    "- The `json()` method parses the JSON response into a Python dictionary."
   ]
  },
  {
   "cell_type": "code",
   "execution_count": 22,
   "id": "80d35233",
   "metadata": {},
   "outputs": [
    {
     "name": "stdout",
     "output_type": "stream",
     "text": [
      "Complete response from LLM:\n",
      "{\n",
      "    \"choices\": [\n",
      "        {\n",
      "            \"content_filter_results\": {\n",
      "                \"hate\": {\n",
      "                    \"filtered\": false,\n",
      "                    \"severity\": \"safe\"\n",
      "                },\n",
      "                \"self_harm\": {\n",
      "                    \"filtered\": false,\n",
      "                    \"severity\": \"safe\"\n",
      "                },\n",
      "                \"sexual\": {\n",
      "                    \"filtered\": false,\n",
      "                    \"severity\": \"safe\"\n",
      "                },\n",
      "                \"violence\": {\n",
      "                    \"filtered\": false,\n",
      "                    \"severity\": \"safe\"\n",
      "                }\n",
      "            },\n",
      "            \"finish_reason\": \"stop\",\n",
      "            \"index\": 0,\n",
      "            \"logprobs\": null,\n",
      "            \"message\": {\n",
      "                \"annotations\": [],\n",
      "                \"content\": \"Oh wow, a greeting! You're really pushing the envelope of human interaction there. Hello to you too.\",\n",
      "                \"refusal\": null,\n",
      "                \"role\": \"assistant\"\n",
      "            }\n",
      "        }\n",
      "    ],\n",
      "    \"created\": 1746840269,\n",
      "    \"id\": \"chatcmpl-BVTEzw71MMygiNaqTceY8mx85WxQB\",\n",
      "    \"model\": \"gpt-4\",\n",
      "    \"object\": \"chat.completion\",\n",
      "    \"prompt_filter_results\": [\n",
      "        {\n",
      "            \"prompt_index\": 0,\n",
      "            \"content_filter_results\": {\n",
      "                \"hate\": {\n",
      "                    \"filtered\": false,\n",
      "                    \"severity\": \"safe\"\n",
      "                },\n",
      "                \"jailbreak\": {\n",
      "                    \"filtered\": false,\n",
      "                    \"detected\": false\n",
      "                },\n",
      "                \"self_harm\": {\n",
      "                    \"filtered\": false,\n",
      "                    \"severity\": \"safe\"\n",
      "                },\n",
      "                \"sexual\": {\n",
      "                    \"filtered\": false,\n",
      "                    \"severity\": \"safe\"\n",
      "                },\n",
      "                \"violence\": {\n",
      "                    \"filtered\": false,\n",
      "                    \"severity\": \"safe\"\n",
      "                }\n",
      "            }\n",
      "        }\n",
      "    ],\n",
      "    \"system_fingerprint\": null,\n",
      "    \"usage\": {\n",
      "        \"completion_tokens\": 22,\n",
      "        \"completion_tokens_details\": {\n",
      "            \"accepted_prediction_tokens\": 0,\n",
      "            \"audio_tokens\": 0,\n",
      "            \"reasoning_tokens\": 0,\n",
      "            \"rejected_prediction_tokens\": 0\n",
      "        },\n",
      "        \"prompt_tokens\": 20,\n",
      "        \"prompt_tokens_details\": {\n",
      "            \"audio_tokens\": 0,\n",
      "            \"cached_tokens\": 0\n",
      "        },\n",
      "        \"total_tokens\": 42\n",
      "    }\n",
      "}\n"
     ]
    }
   ],
   "source": [
    "result = response.json()\n",
    "print(f\"Complete response from LLM:\\n{json.dumps(result, indent=4)}\")"
   ]
  },
  {
   "cell_type": "markdown",
   "id": "a1be6807",
   "metadata": {},
   "source": [
    "## prompt token and completion tokens\n",
    "- \"prompt tokens\" refer to the input text fed into the model, including any instructions or context provided to the model.  \n",
    "- \"completion tokens\" represent the output generated by the model in response to that prompt. Control via \"max_tokens\"\n",
    "<br><br>\n",
    "- The maximum number of tokens a model can process (both prompt and completion) is defined by its \"context window\"\n",
    "- The cost of using Azure OpenAI is typically based on the number of tokens used, both prompt and completion. "
   ]
  },
  {
   "cell_type": "markdown",
   "id": "d657242d",
   "metadata": {},
   "source": [
    "## Extract answer and print it"
   ]
  },
  {
   "cell_type": "code",
   "execution_count": 23,
   "id": "dba3b00d",
   "metadata": {},
   "outputs": [
    {
     "name": "stdout",
     "output_type": "stream",
     "text": [
      "\n",
      "Answer from AI:\n",
      "Oh wow, a greeting! You're really pushing the envelope of human interaction there. Hello to you too.\n"
     ]
    }
   ],
   "source": [
    "print(\"\\nAnswer from AI:\")\n",
    "answer = result['choices'][0]['message']['content']\n",
    "print(answer)"
   ]
  }
 ],
 "metadata": {
  "kernelspec": {
   "display_name": "venv",
   "language": "python",
   "name": "python3"
  },
  "language_info": {
   "codemirror_mode": {
    "name": "ipython",
    "version": 3
   },
   "file_extension": ".py",
   "mimetype": "text/x-python",
   "name": "python",
   "nbconvert_exporter": "python",
   "pygments_lexer": "ipython3",
   "version": "3.11.10"
  }
 },
 "nbformat": 4,
 "nbformat_minor": 5
}
